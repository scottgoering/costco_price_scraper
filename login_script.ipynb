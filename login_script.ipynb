{
 "cells": [
  {
   "cell_type": "code",
   "execution_count": 1,
   "metadata": {},
   "outputs": [],
   "source": [
    "from selenium.webdriver.common.by import By\n",
    "from selenium.webdriver.common.keys import Keys\n",
    "from selenium.webdriver.support.ui import WebDriverWait\n",
    "from selenium.webdriver.support import expected_conditions as EC\n",
    "import undetected_chromedriver as uc\n",
    "from selenium.webdriver.common.action_chains import ActionChains\n",
    "from bs4 import BeautifulSoup\n",
    "import time\n",
    "from datetime import datetime, timedelta, timezone\n",
    "import re\n",
    "import csv\n",
    "import sqlite3\n",
    "import os\n",
    "import configparser\n"
   ]
  },
  {
   "cell_type": "code",
   "execution_count": 2,
   "metadata": {},
   "outputs": [],
   "source": [
    "# Connect to the SQLite database (create a new one if it doesn't exist)\n",
    "conn = sqlite3.connect(\"scraped_prices.db\")\n",
    "cursor = conn.cursor()"
   ]
  },
  {
   "cell_type": "code",
   "execution_count": 3,
   "metadata": {},
   "outputs": [],
   "source": [
    "# # Execute DELETE statement to clear all rows from the table\n",
    "# cursor.execute(f\"DROP TABLE IF EXISTS {'receipts'}\")\n",
    "\n",
    "# # Commit the changes to the database\n",
    "# cursor.connection.commit()"
   ]
  },
  {
   "cell_type": "code",
   "execution_count": 4,
   "metadata": {},
   "outputs": [],
   "source": [
    "# Replace these with your actual credentials and website URL\n",
    "config = configparser.ConfigParser()\n",
    "config.read('config.ini')\n",
    "\n",
    "username = config['Credentials']['USERNAME']\n",
    "password = config['Credentials']['PASSWORD']\n",
    "\n",
    "website_url = \"https://www.costco.ca/LogonForm\""
   ]
  },
  {
   "cell_type": "code",
   "execution_count": 5,
   "metadata": {},
   "outputs": [],
   "source": [
    "\n",
    "# Specify the path to chromedriver\n",
    "# service = Service(r'C:\\\\Users\\\\Jacky Sio\\\\costco_price_scraper\\\\chromedriver.exe')\n",
    "\n",
    "# Create ChromeOptions and specify the browser binary\n",
    "# options = webdriver.ChromeOptions()\n",
    "# options.add_argument(\"user-agent=Mozilla/5.0 (Windows NT 10.0; Win64; x64) AppleWebKit/537.36 (KHTML, like Gecko) Chrome/58.0.3029.110 Safari/537.3\")\n",
    "# options.add_argument(\"--headless\")\n",
    "# options.add_experimental_option(\"excludeSwitches\", [\"enable-automation\"])\n",
    "\n",
    "# Create the webdriver with the specified options\n",
    "#driver = webdriver.Chrome(service=service, options=options)\n",
    "driver = uc.Chrome(use_subprocess=False)\n",
    "# Open the website\n",
    "driver.get(website_url)\n",
    "WebDriverWait(driver, 20).until(EC.element_to_be_clickable((By.XPATH, '//button[@id=\"next\"]')))\n",
    "time.sleep(4)\n",
    "# Find the username and password input fields and submit button\n",
    "username_field = driver.find_element(\"id\", \"signInName\")\n",
    "password_field = driver.find_element(\"id\", \"password\")\n",
    "sign_in_button = driver.find_element(By.XPATH, '//button[@id=\"next\"]')\n",
    "\n",
    "\n"
   ]
  },
  {
   "cell_type": "code",
   "execution_count": 6,
   "metadata": {},
   "outputs": [],
   "source": [
    "# Enter your credentials and submit the form\n",
    "username_field.send_keys(username)\n",
    "username_field.clear()\n",
    "time.sleep(1)\n",
    "username_field.send_keys(username)\n",
    "time.sleep(1.1)\n",
    "password_field.send_keys(password)\n",
    "password_field.clear()\n",
    "time.sleep(2.4)\n",
    "password_field.send_keys(password)\n",
    "ActionChains(driver).move_to_element(sign_in_button).perform()  \n"
   ]
  },
  {
   "cell_type": "code",
   "execution_count": 7,
   "metadata": {},
   "outputs": [],
   "source": [
    "time.sleep(5.3)\n",
    "ActionChains(driver).double_click(sign_in_button).perform()\n",
    "try:\n",
    "    time.sleep(1)\n",
    "    sign_in_button.click()\n",
    "    time.sleep(5)\n",
    "except Exception:\n",
    "    print(\"Timeout: The next page did not load within the expected time.\")\n"
   ]
  },
  {
   "cell_type": "code",
   "execution_count": 8,
   "metadata": {},
   "outputs": [
    {
     "name": "stdout",
     "output_type": "stream",
     "text": [
      "Sign-in successful!\n"
     ]
    }
   ],
   "source": [
    "time.sleep(3)\n",
    "try:\n",
    "    # Wait for the presence of an element on the next page (change the selector accordingly)\n",
    "    WebDriverWait(driver, 10).until(\n",
    "        EC.presence_of_element_located((By.ID, \"search-field\"))\n",
    "    )\n",
    "\n",
    "    # At this point, you can perform additional checks or actions on the next page\n",
    "    # For example, check for a welcome message or other elements to confirm successful sign-in\n",
    "\n",
    "    print(\"Sign-in successful!\")\n",
    "\n",
    "except Exception:\n",
    "    print(\"Timeout: The next page did not load within the expected time.\")"
   ]
  },
  {
   "cell_type": "code",
   "execution_count": 9,
   "metadata": {},
   "outputs": [],
   "source": [
    "WebDriverWait(driver, 20).until(EC.element_to_be_clickable((By.ID,\"header_order_and_returns\")))\n",
    "account_button = driver.find_element(\"id\",\"header_order_and_returns\")\n",
    "#time.sleep(6)\n",
    "account_button.click()\n",
    "#time.sleep(5)"
   ]
  },
  {
   "cell_type": "code",
   "execution_count": 10,
   "metadata": {},
   "outputs": [],
   "source": [
    "#WebDriverWait(driver, 20).until(EC.element_to_be_clickable((By.XPATH, '//button[@id=\"next\"]')))\n",
    "WebDriverWait(driver, 20).until(EC.element_to_be_clickable((By.XPATH,'//button[@automation-id=\"myWarehouseOrdersTab\"]')))\n",
    "warehouse_button = driver.find_element(By.XPATH,'//button[@automation-id=\"myWarehouseOrdersTab\"]')\n",
    "warehouse_button.click()\n",
    "time.sleep(3)\n"
   ]
  },
  {
   "cell_type": "markdown",
   "metadata": {},
   "source": [
    "### Database Code"
   ]
  },
  {
   "cell_type": "code",
   "execution_count": 11,
   "metadata": {},
   "outputs": [],
   "source": [
    "# Create the Receipts table\n",
    "def create_receipts_table(cursor):\n",
    "    cursor.execute('''\n",
    "        CREATE TABLE IF NOT EXISTS receipts (\n",
    "        id INTEGER PRIMARY KEY AUTOINCREMENT,\n",
    "        item_id INT,\n",
    "        item_name TEXT,\n",
    "        item_price REAL,\n",
    "        date DATE,\n",
    "        receipt_id TEXT,\n",
    "        on_sale BOOLEAN,\n",
    "        receipt_path TEXT\n",
    "        )\n",
    "''')"
   ]
  },
  {
   "cell_type": "code",
   "execution_count": 12,
   "metadata": {},
   "outputs": [],
   "source": [
    "\n",
    "def get_all_receipt_ids(cursor):\n",
    "    cursor.execute(\"SELECT DISTINCT receipt_id FROM receipts\")\n",
    "    result = cursor.fetchall()\n",
    "    receipt_ids = [row[0] for row in result]\n",
    "    return receipt_ids"
   ]
  },
  {
   "cell_type": "code",
   "execution_count": 13,
   "metadata": {},
   "outputs": [],
   "source": [
    "def get_all_item_ids_not_on_sale(cursor):\n",
    "    cursor.execute(\"SELECT DISTINCT item_id FROM receipts WHERE on_sale = 0\")\n",
    "    result = cursor.fetchall()\n",
    "    item_ids = [row[0] for row in result]\n",
    "    return item_ids"
   ]
  },
  {
   "cell_type": "code",
   "execution_count": 14,
   "metadata": {},
   "outputs": [],
   "source": [
    "def upsert_receipt_data(cursor, all_receipt_items_list):\n",
    "\n",
    "    for receipt_item in all_receipt_items_list:\n",
    "        item_id = receipt_item.get(\"item_id\")\n",
    "        item_name = receipt_item.get(\"item_name\")\n",
    "        item_price = receipt_item.get(\"item_price\")\n",
    "        date = receipt_item.get(\"date\")\n",
    "        receipt_id = receipt_item.get(\"receipt_id\")\n",
    "        on_sale = receipt_item.get(\"on_sale\")\n",
    "        receipt_path = receipt_item.get(\"receipt_path\")\n",
    "        # Upsert data using INSERT OR REPLACE\n",
    "        cursor.execute('''\n",
    "            INSERT OR REPLACE INTO receipts (item_id, item_name, item_price, date, receipt_id, on_sale, receipt_path)\n",
    "            VALUES (?, ?, ?, ?, ?, ?, ?)\n",
    "        ''', (item_id, item_name, item_price, date, receipt_id, on_sale, receipt_path))"
   ]
  },
  {
   "cell_type": "code",
   "execution_count": 15,
   "metadata": {},
   "outputs": [],
   "source": [
    "\n",
    "\n",
    "create_receipts_table(cursor)\n",
    "\n"
   ]
  },
  {
   "cell_type": "code",
   "execution_count": 16,
   "metadata": {},
   "outputs": [],
   "source": [
    "def process_receipt_metadata(all_receipt_ids_set):\n",
    "    \n",
    "     # Locate the table element using its HTML structure\n",
    "    receipt_element = driver.find_element(By.ID,'dataToPrint')\n",
    "    # Get the HTML content of the table\n",
    "    receipt_html = receipt_element.get_attribute('outerHTML')\n",
    "    soup = BeautifulSoup(receipt_html, 'html.parser')\n",
    "    \n",
    "    receipt_id = soup.find_all('div', class_=\"MuiBox-root css-11s8ayx\")\n",
    "    if receipt_id:\n",
    "        receipt_id = receipt_id[-1].get_text(strip=True)\n",
    "        print(receipt_id)\n",
    "        # Check if receipt_id is in the set of all_receipt_ids_set\n",
    "        if receipt_id in all_receipt_ids_set:\n",
    "            print(f\"Receipt {receipt_id} is already processed. Skipping...\")\n",
    "            return None, None, None  # Skip processing further\n",
    "    date_str = soup.find('span', class_=\"date MuiBox-root css-ke5oan\")\n",
    "    time_str = soup.find('span', class_=\"time MuiBox-root css-5c53yh\")\n",
    "    if date_str is not None and time_str is not None:\n",
    "        date_str = date_str.get_text(strip=True)\n",
    "        time_str = time_str.get_text(strip=True)\n",
    "        print(date_str)\n",
    "    date_time_str = f\"{date_str} {time_str}\"\n",
    "    date_time_format = \"%m/%d/%Y %H:%M\"\n",
    "    date_time_obj = datetime.strptime(date_time_str, date_time_format)\n",
    "    print(date_time_obj)\n",
    "    \n",
    "    receipts_folder = \"receipts\"\n",
    "    if not os.path.exists(receipts_folder):\n",
    "        os.makedirs(receipts_folder)\n",
    "    \n",
    "    # Generate a safe file name by replacing invalid characters\n",
    "    filename_safe_str = re.sub(r'[^a-zA-Z0-9]', '_', date_time_str)\n",
    "    file_name = f\"receipt_{filename_safe_str}_{receipt_id}.png\"\n",
    "    receipt_path = os.path.join(receipts_folder, file_name)\n",
    "    # Save the screenshot with the safe file name\n",
    "    driver.save_screenshot(receipt_path)\n",
    "    print(\"Screenshot saved as:\", receipt_path)\n",
    "    \n",
    "    return receipt_id, date_time_str, receipt_path"
   ]
  },
  {
   "cell_type": "code",
   "execution_count": 17,
   "metadata": {},
   "outputs": [],
   "source": [
    "def check_for_discount_prefix(name):\n",
    "    match = re.match(r\"TPD/(\\d+)\", name)\n",
    "    if match:\n",
    "        return match.group(1)\n",
    "    else:\n",
    "        return None"
   ]
  },
  {
   "cell_type": "code",
   "execution_count": 18,
   "metadata": {},
   "outputs": [],
   "source": [
    "def process_receipt_items(receipt_id, date_time_str, receipt_path):\n",
    "        # Locate the table element using its HTML structure\n",
    "    table_element = driver.find_element(By.CSS_SELECTOR,'table.MuiTable-root[aria-label=\"spanning table\"]')\n",
    "    # Get the HTML content of the table\n",
    "    table_html = table_element.get_attribute('outerHTML')\n",
    "    soup = BeautifulSoup(table_html, 'html.parser')\n",
    "    item_list = []\n",
    "    discount_set = set()\n",
    "    table_body = soup.find('tbody', class_='MuiTableBody-root')\n",
    "    for row in table_body.find_all('tr', class_='MuiTableRow-root css-ufft4h'):\n",
    "        # Extract data from each column in the row\n",
    "        item_id = row.find('td', class_='css-tedx13')\n",
    "        item_name = row.find('td', class_='css-u9y9s5')\n",
    "        item_price = row.find('td', class_='css-1879r0q')\n",
    "        # Extract ID, name, and price\n",
    "        if item_id is not None and item_name is not None and item_price is not None:\n",
    "            id = item_id.get_text(strip=True)\n",
    "            name = item_name.get_text(strip=True)\n",
    "            #check for discounts\n",
    "            discount_id = check_for_discount_prefix(name)\n",
    "            if discount_id is not None:\n",
    "                discount_set.add(discount_id)\n",
    "                continue\n",
    "            price = item_price.get_text(strip=True)\n",
    "            item_info = {'item_id': id, 'item_name': name, 'item_price': price, 'receipt_id': receipt_id, 'date': date_time_str, 'on_sale': False, 'receipt_path':receipt_path}\n",
    "            item_list.append(item_info)\n",
    "            # Perform desired actions, e.g., print or store in a list\n",
    "            print(f\"ID: {id}, Name: {name}, Price: {price}\")\n",
    "        else:\n",
    "            break\n",
    "    for item in item_list:\n",
    "        item_id = item['item_id']\n",
    "        if item_id in discount_set:\n",
    "            item['on_sale'] = True\n",
    "    \n",
    "    return item_list"
   ]
  },
  {
   "cell_type": "code",
   "execution_count": 19,
   "metadata": {},
   "outputs": [
    {
     "name": "stdout",
     "output_type": "stream",
     "text": [
      "Clicking 'View Receipt' button 1\n",
      "22054800601682312281221\n",
      "Receipt 22054800601682312281221 is already processed. Skipping...\n",
      "Clicking 'View Receipt' button 2\n",
      "22054812300662312281157\n",
      "Receipt 22054812300662312281157 is already processed. Skipping...\n",
      "Clicking 'View Receipt' button 3\n",
      "22054800302752312231317\n",
      "Receipt 22054800302752312231317 is already processed. Skipping...\n",
      "Clicking 'View Receipt' button 4\n",
      "22054800700622312191005\n",
      "Receipt 22054800700622312191005 is already processed. Skipping...\n",
      "Clicking 'View Receipt' button 5\n",
      "22054801106272312182051\n",
      "Receipt 22054801106272312182051 is already processed. Skipping...\n",
      "Clicking 'View Receipt' button 6\n",
      "22054819101342312182025\n",
      "Receipt 22054819101342312182025 is already processed. Skipping...\n",
      "Clicking 'View Receipt' button 7\n",
      "22054801203912312131504\n",
      "Receipt 22054801203912312131504 is already processed. Skipping...\n",
      "Clicking 'View Receipt' button 8\n",
      "22054812101402312131412\n",
      "Receipt 22054812101402312131412 is already processed. Skipping...\n",
      "Clicking 'View Receipt' button 9\n",
      "22054800604142311231630\n",
      "Receipt 22054800604142311231630 is already processed. Skipping...\n",
      "Clicking 'View Receipt' button 10\n",
      "22054812301762311231615\n",
      "Receipt 22054812301762311231615 is already processed. Skipping...\n"
     ]
    }
   ],
   "source": [
    "view_receipt_buttons = driver.find_elements(By.CSS_SELECTOR, 'button[automation-id=\"ViewInWareHouseReciept\"]')\n",
    "all_receipt_items_list = []\n",
    "for index, button in enumerate(view_receipt_buttons, start=1):\n",
    "    print(f\"Clicking 'View Receipt' button {index}\")\n",
    "    button.click()\n",
    "    time.sleep(2)\n",
    "    all_receipt_ids_set = set(get_all_receipt_ids(cursor))\n",
    "    receipt_id, date_time_str, receipt_path = process_receipt_metadata(all_receipt_ids_set)\n",
    "    if receipt_id is not None:\n",
    "        all_receipt_items_list+=process_receipt_items(receipt_id, date_time_str, receipt_path)\n",
    "    pop = driver.find_element(By.CSS_SELECTOR, 'button.MuiButtonBase-root[aria-label=\"Close\"]')\n",
    "    pop.click()\n",
    "    scroll_script = \"window.scrollBy(0, 200);\"\n",
    "    driver.execute_script(scroll_script)"
   ]
  },
  {
   "cell_type": "code",
   "execution_count": 20,
   "metadata": {},
   "outputs": [],
   "source": [
    "conn.commit()"
   ]
  },
  {
   "cell_type": "code",
   "execution_count": 21,
   "metadata": {},
   "outputs": [
    {
     "name": "stdout",
     "output_type": "stream",
     "text": [
      "[]\n"
     ]
    }
   ],
   "source": [
    "print(all_receipt_items_list)\n",
    "upsert_receipt_data(cursor, all_receipt_items_list)\n",
    "all_items_list = get_all_item_ids_not_on_sale(cursor)"
   ]
  },
  {
   "cell_type": "code",
   "execution_count": 22,
   "metadata": {},
   "outputs": [
    {
     "name": "stdout",
     "output_type": "stream",
     "text": [
      "[743244, 1779962, 1794497, 30669, 13175, 1533852, 30739, 1570675, 4223366, 29464, 1743411, 1780268, 11521, 8068, 5675, 399299, 6485, 9481, 1588626, 9484, 170547, 1779820, 2280539, 1601370, 31408, 1647794, 1579298, 67245, 9134, 290291, 251813, 532683, 692731, 1641849, 252214, 23106, 879639, 31098, 15764, 262282, 2142667, 1601313, 2551586, 5051501, 941712, 347937, 6283006, 401150, 6283010, 5588009, 675749, 1794316, 6283008, 969786, 400615, 348, 1564000, 203435, 1652577, 13813, 804449, 1037794, 1856100, 1801236, 2531001, 1792087, 4531001, 1792088, 2197001, 695035, 1303489, 1433048, 2619, 2531000, 313963, 1601331, 1797778, 8512544, 1149838, 234745, 1101646, 1480774, 242846]\n"
     ]
    }
   ],
   "source": [
    "print(all_items_list)"
   ]
  },
  {
   "cell_type": "code",
   "execution_count": 23,
   "metadata": {},
   "outputs": [
    {
     "name": "stdout",
     "output_type": "stream",
     "text": [
      "Total Savings: 0\n",
      "Sale Info:\n"
     ]
    }
   ],
   "source": [
    "import requests\n",
    "\n",
    "# URL of your Flask API\n",
    "api_url = \"http://localhost:5000/check_sale\"  # Update with your actual URL\n",
    "\n",
    "# Example item IDs\n",
    "\n",
    "\n",
    "# JSON payload\n",
    "payload = {\"item_ids\": all_items_list}\n",
    "\n",
    "# Make a POST request\n",
    "response = requests.post(api_url, json=payload)\n",
    "\n",
    "# Check the response\n",
    "if response.status_code == 200:\n",
    "    data = response.json()\n",
    "    print(\"Total Savings:\", data[\"total_savings\"])\n",
    "    print(\"Sale Info:\")\n",
    "    for sale_item in data[\"sale_info\"]:\n",
    "        print(f\"Item ID: {sale_item['item_id']}\")\n",
    "        print(f\"Item Name: {sale_item['item_name']}\")\n",
    "        print(f\"Savings: {sale_item['savings']}\")\n",
    "        print(f\"Expiry Date: {sale_item['expiry_date']}\")\n",
    "        print(f\"Sale Price: {sale_item['sale_price']}\")\n",
    "        print(\"---\")\n",
    "else:\n",
    "    print(\"Request failed with status code:\", response.status_code)\n",
    "    print(response.text)"
   ]
  },
  {
   "cell_type": "code",
   "execution_count": 24,
   "metadata": {},
   "outputs": [],
   "source": [
    "# view_receipt_buttons = driver.find_elements(By.CSS_SELECTOR, 'button[automation-id=\"ViewInWareHouseReciept\"]')\n",
    "\n",
    "# for index, button in enumerate(view_receipt_buttons, start=1):\n",
    "#     #view_receipt = WebDriverWait(driver, 10).until(EC.element_to_be_clickable((By.CSS_SELECTOR, 'button[automation-id=\"ViewInWareHouseReciept\"]')))\n",
    "#     print(f\"Clicking 'View Receipt' button {index}\")\n",
    "#     button.click()\n",
    "#     time.sleep(1)\n",
    "#     driver.save_screenshot(f\"receipt{index}.png\")\n",
    "#     pop = driver.find_element(By.CSS_SELECTOR, 'button.MuiButtonBase-root[aria-label=\"Close\"]')\n",
    "#     pop.click()\n",
    "#     scroll_script = \"window.scrollBy(0, 200);\"\n",
    "#     driver.execute_script(scroll_script)"
   ]
  },
  {
   "cell_type": "code",
   "execution_count": 25,
   "metadata": {},
   "outputs": [],
   "source": [
    "# Commit the changes and close the connection\n",
    "conn.commit()\n",
    "conn.close()"
   ]
  }
 ],
 "metadata": {
  "kernelspec": {
   "display_name": "base",
   "language": "python",
   "name": "python3"
  },
  "language_info": {
   "codemirror_mode": {
    "name": "ipython",
    "version": 3
   },
   "file_extension": ".py",
   "mimetype": "text/x-python",
   "name": "python",
   "nbconvert_exporter": "python",
   "pygments_lexer": "ipython3",
   "version": "3.8.8"
  }
 },
 "nbformat": 4,
 "nbformat_minor": 2
}
